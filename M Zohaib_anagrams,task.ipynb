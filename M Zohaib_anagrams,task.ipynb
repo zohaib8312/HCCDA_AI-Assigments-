{
 "cells": [
  {
   "cell_type": "code",
   "execution_count": 4,
   "id": "c5571036-84c6-4204-85b9-d1d35d62bdc6",
   "metadata": {},
   "outputs": [
    {
     "name": "stdout",
     "output_type": "stream",
     "text": [
      "'silent' and 'listen': Anagrams\n",
      "'hello' and 'world': Not Anagrams\n",
      "'smile' and 'limes': Anagrams\n"
     ]
    }
   ],
   "source": [
    "def check_anagram(word1, word2):\n",
    "    # Remove spaces and convert to lowercase\n",
    "    word1 = word1.replace(\" \", \"\").lower()\n",
    "    word2 = word2.replace(\" \", \"\").lower()\n",
    "    \n",
    "    # Sort and compare\n",
    "    return sorted(word1) == sorted(word2)\n",
    "\n",
    "# List of text pairs to check\n",
    "pairs = [\n",
    "    (\"silent\", \"listen\"),\n",
    "    (\"hello\", \"world\"),\n",
    "    (\"smile\", \"limes\")  \n",
    "]\n",
    "\n",
    "# Check each pair\n",
    "for w1, w2 in pairs:\n",
    "    if not w1 or not w2:\n",
    "        print(f\"'{w1}' and '{w2}': Not enough words to compare\")\n",
    "    elif check_anagram(w1, w2):\n",
    "        print(f\"'{w1}' and '{w2}': Anagrams\")\n",
    "    else:\n",
    "        print(f\"'{w1}' and '{w2}': Not Anagrams\")"
   ]
  },
  {
   "cell_type": "code",
   "execution_count": null,
   "id": "2be1cf90-4a1e-4425-acea-aa73af8d29f6",
   "metadata": {},
   "outputs": [],
   "source": []
  }
 ],
 "metadata": {
  "kernelspec": {
   "display_name": "Python 3 (ipykernel)",
   "language": "python",
   "name": "python3"
  },
  "language_info": {
   "codemirror_mode": {
    "name": "ipython",
    "version": 3
   },
   "file_extension": ".py",
   "mimetype": "text/x-python",
   "name": "python",
   "nbconvert_exporter": "python",
   "pygments_lexer": "ipython3",
   "version": "3.12.7"
  }
 },
 "nbformat": 4,
 "nbformat_minor": 5
}
